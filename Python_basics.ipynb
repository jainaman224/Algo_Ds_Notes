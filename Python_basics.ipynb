{
  "nbformat": 4,
  "nbformat_minor": 0,
  "metadata": {
    "colab": {
      "name": "Python_basics.ipynb",
      "provenance": [],
      "private_outputs": true,
      "collapsed_sections": [],
      "include_colab_link": true
    },
    "kernelspec": {
      "name": "python3",
      "display_name": "Python 3"
    }
  },
  "cells": [
    {
      "cell_type": "markdown",
      "metadata": {
        "id": "view-in-github",
        "colab_type": "text"
      },
      "source": [
        "<a href=\"https://colab.research.google.com/github/sakshikhachane/Algo_Ds_Notes/blob/master/Python_basics.ipynb\" target=\"_parent\"><img src=\"https://colab.research.google.com/assets/colab-badge.svg\" alt=\"Open In Colab\"/></a>"
      ]
    },
    {
      "cell_type": "markdown",
      "metadata": {
        "id": "FyHGj4Pgv4aD",
        "colab_type": "toc"
      },
      "source": [
        ">[Introduction](#scrollTo=1Wio06tstydj)\n",
        "\n",
        ">[Basic operations](#scrollTo=InDBu5rfurNl)\n",
        "\n",
        ">[Strings](#scrollTo=uIka8RgguzcL)\n",
        "\n",
        ">[Output and input](#scrollTo=nt5XWrTHu5iq)\n",
        "\n",
        ">[String operations](#scrollTo=v96D04Z6u9MD)\n",
        "\n",
        ">[Typecasting](#scrollTo=ks_g9OEgvBRa)\n",
        "\n",
        ">[Variables](#scrollTo=omBc3jzvvMvj)\n",
        "\n",
        ">[In place operators](#scrollTo=9J-3FyTZvgox)\n",
        "\n"
      ]
    },
    {
      "cell_type": "markdown",
      "metadata": {
        "id": "1Wio06tstydj",
        "colab_type": "text"
      },
      "source": [
        "# Introduction"
      ]
    },
    {
      "cell_type": "markdown",
      "metadata": {
        "id": "RXM4XiO-t2bf",
        "colab_type": "text"
      },
      "source": [
        "Python is a dynamically typed, usually interpreted programming langauge, created by Guido Van Rossum in 1991. The major versions of Python are 1.x, 2.x and 3.x. Python 3 introduced a lot of breaking changes from Python2. Here we'll be using Python 3.\n",
        "\n",
        "If you want to (and it's a good thing to do) install Python on your machine, visit [Python's website](https://www.python.org) for installation instructions. If you are using Linux, it's already installed. \n",
        "\n",
        "However, for data science use cases, Jupyter Notebooks are most preferred. You can download [Anaconda Navigator](https://www.anaconda.com/distribution/) and follow the instructions [here](https://docs.anaconda.com/ae-notebooks/user-guide/basic-tasks/apps/jupyter/) to get Jupyter Notebooks up and running.\n",
        "\n",
        "\n",
        "\n"
      ]
    },
    {
      "cell_type": "markdown",
      "metadata": {
        "id": "InDBu5rfurNl",
        "colab_type": "text"
      },
      "source": [
        "# Basic operations"
      ]
    },
    {
      "cell_type": "markdown",
      "metadata": {
        "id": "eqr2AYGjnHet",
        "colab_type": "text"
      },
      "source": [
        "Python has the capability of (unsurprisingly) carrying out calculations. It can perform arithmetic operations like addition, subtraction and multiplication."
      ]
    },
    {
      "cell_type": "code",
      "metadata": {
        "id": "wse5myQjkhS7",
        "colab_type": "code",
        "colab": {}
      },
      "source": [
        "2+5"
      ],
      "execution_count": 0,
      "outputs": []
    },
    {
      "cell_type": "code",
      "metadata": {
        "id": "ZA0dFhe0kijg",
        "colab_type": "code",
        "colab": {}
      },
      "source": [
        "2-5"
      ],
      "execution_count": 0,
      "outputs": []
    },
    {
      "cell_type": "code",
      "metadata": {
        "id": "ViFH8yAlkjP8",
        "colab_type": "code",
        "colab": {}
      },
      "source": [
        "49*76"
      ],
      "execution_count": 0,
      "outputs": []
    },
    {
      "cell_type": "markdown",
      "metadata": {
        "id": "tIBVd6NEnflV",
        "colab_type": "text"
      },
      "source": [
        "Dividing two integers produces a decimal value"
      ]
    },
    {
      "cell_type": "code",
      "metadata": {
        "id": "c8LPh3HTkke9",
        "colab_type": "code",
        "colab": {}
      },
      "source": [
        "12/5"
      ],
      "execution_count": 0,
      "outputs": []
    },
    {
      "cell_type": "markdown",
      "metadata": {
        "id": "M8RvRBUInriO",
        "colab_type": "text"
      },
      "source": [
        "Using // we can get the quotient"
      ]
    },
    {
      "cell_type": "code",
      "metadata": {
        "id": "k66vSd3fkl3K",
        "colab_type": "code",
        "colab": {}
      },
      "source": [
        "12//5"
      ],
      "execution_count": 0,
      "outputs": []
    },
    {
      "cell_type": "markdown",
      "metadata": {
        "id": "BvC3x5CXnvqL",
        "colab_type": "text"
      },
      "source": [
        "Using % we can get the remainder"
      ]
    },
    {
      "cell_type": "code",
      "metadata": {
        "id": "qYbZKHa4lVbS",
        "colab_type": "code",
        "colab": {}
      },
      "source": [
        "12%5"
      ],
      "execution_count": 0,
      "outputs": []
    },
    {
      "cell_type": "markdown",
      "metadata": {
        "id": "f64t-Mlfnyxn",
        "colab_type": "text"
      },
      "source": [
        "** is the exponentiation operator. Also as evident, Python integers can be arbitrarily big."
      ]
    },
    {
      "cell_type": "code",
      "metadata": {
        "id": "GPlsX5DXknPY",
        "colab_type": "code",
        "colab": {}
      },
      "source": [
        "12**1000"
      ],
      "execution_count": 0,
      "outputs": []
    },
    {
      "cell_type": "markdown",
      "metadata": {
        "id": "RsNt3NFEn56K",
        "colab_type": "text"
      },
      "source": [
        "Parenthesis can change the order of operation"
      ]
    },
    {
      "cell_type": "code",
      "metadata": {
        "id": "SON32340lB1d",
        "colab_type": "code",
        "colab": {}
      },
      "source": [
        "2*(3+4)"
      ],
      "execution_count": 0,
      "outputs": []
    },
    {
      "cell_type": "markdown",
      "metadata": {
        "id": "S6Xydyw4n9lb",
        "colab_type": "text"
      },
      "source": [
        "Putting a - sign before a number makes it negative"
      ]
    },
    {
      "cell_type": "code",
      "metadata": {
        "id": "qRNeAlyulJ49",
        "colab_type": "code",
        "colab": {}
      },
      "source": [
        "(-7*2)/4"
      ],
      "execution_count": 0,
      "outputs": []
    },
    {
      "cell_type": "markdown",
      "metadata": {
        "id": "MKgDVKANoCoX",
        "colab_type": "text"
      },
      "source": [
        "Dividing by 0 causes an error"
      ]
    },
    {
      "cell_type": "code",
      "metadata": {
        "id": "M9KDZGAClOen",
        "colab_type": "code",
        "colab": {}
      },
      "source": [
        "11/0"
      ],
      "execution_count": 0,
      "outputs": []
    },
    {
      "cell_type": "markdown",
      "metadata": {
        "id": "uIka8RgguzcL",
        "colab_type": "text"
      },
      "source": [
        "# Strings"
      ]
    },
    {
      "cell_type": "markdown",
      "metadata": {
        "id": "4bF6vCP0oGH7",
        "colab_type": "text"
      },
      "source": [
        "So far we have seen only integers, which are called **int** in Python. Also we have seen floating point numbers which are called **float**. Now let's see strings. Strings are a sequence of letters which can include alphabets, numbers, symbols, spaces, newlines, and other characters."
      ]
    },
    {
      "cell_type": "markdown",
      "metadata": {
        "id": "8Np9beWbogei",
        "colab_type": "text"
      },
      "source": [
        "A string in Python must be wrapped around quotes. It can be wrapped with double quotes"
      ]
    },
    {
      "cell_type": "code",
      "metadata": {
        "id": "1ItEiAwNkp2k",
        "colab_type": "code",
        "colab": {}
      },
      "source": [
        "\"Hi\""
      ],
      "execution_count": 0,
      "outputs": []
    },
    {
      "cell_type": "markdown",
      "metadata": {
        "id": "dJ2Hxuq7onzY",
        "colab_type": "text"
      },
      "source": [
        "Or single quotes"
      ]
    },
    {
      "cell_type": "code",
      "metadata": {
        "id": "fW0qPKfDlZVm",
        "colab_type": "code",
        "colab": {}
      },
      "source": [
        "'hi'"
      ],
      "execution_count": 0,
      "outputs": []
    },
    {
      "cell_type": "markdown",
      "metadata": {
        "id": "uMZfwO_Youq-",
        "colab_type": "text"
      },
      "source": [
        "But these strings cannot include line break"
      ]
    },
    {
      "cell_type": "code",
      "metadata": {
        "id": "bawWjOxmop95",
        "colab_type": "code",
        "colab": {}
      },
      "source": [
        "\"Hi \n",
        "I want to be a multiline text. Please help\""
      ],
      "execution_count": 0,
      "outputs": []
    },
    {
      "cell_type": "markdown",
      "metadata": {
        "id": "f7UzOxwoozWI",
        "colab_type": "text"
      },
      "source": [
        "In order to include line breaks, a string must be wrapped around using three double quotes"
      ]
    },
    {
      "cell_type": "code",
      "metadata": {
        "id": "3PsvcD_4lai8",
        "colab_type": "code",
        "colab": {}
      },
      "source": [
        "\"\"\"Hello\n",
        "This is a multiline\n",
        "text\n",
        "\"\"\""
      ],
      "execution_count": 0,
      "outputs": []
    },
    {
      "cell_type": "markdown",
      "metadata": {
        "id": "9gdR-njKo6Cg",
        "colab_type": "text"
      },
      "source": [
        "If you want to use a double quote inside a double quoted string or single quotes inside a single quoted string, you have to **escape** the inner quotes by putting a backslash(\\) before them."
      ]
    },
    {
      "cell_type": "code",
      "metadata": {
        "id": "QsUjmiamlgPD",
        "colab_type": "code",
        "colab": {}
      },
      "source": [
        "\"He said, \\\"This is bad.\\\"\""
      ],
      "execution_count": 0,
      "outputs": []
    },
    {
      "cell_type": "markdown",
      "metadata": {
        "id": "g-1_4esEpVW4",
        "colab_type": "text"
      },
      "source": [
        "You can however use single quotes inside double quoted strings and double quotes inside single quoted strings."
      ]
    },
    {
      "cell_type": "code",
      "metadata": {
        "id": "2nwJ7BxHllIl",
        "colab_type": "code",
        "colab": {}
      },
      "source": [
        "'He said, \"This is bad.\"'"
      ],
      "execution_count": 0,
      "outputs": []
    },
    {
      "cell_type": "markdown",
      "metadata": {
        "id": "nt5XWrTHu5iq",
        "colab_type": "text"
      },
      "source": [
        "# Output and input"
      ]
    },
    {
      "cell_type": "markdown",
      "metadata": {
        "id": "2iN9oJb-peVh",
        "colab_type": "text"
      },
      "source": [
        "To print something to the console, we use the print function. \n",
        "If you pass more than one things using comma, they'll all be printed together with a space in between. print() by default puts a line break after the output"
      ]
    },
    {
      "cell_type": "code",
      "metadata": {
        "id": "04z66zJLltI0",
        "colab_type": "code",
        "colab": {}
      },
      "source": [
        "print(\"Hello, World!\")\n",
        "print(1+1)\n",
        "print(\"Hi\", \"Hello\")"
      ],
      "execution_count": 0,
      "outputs": []
    },
    {
      "cell_type": "code",
      "metadata": {
        "id": "iqYeXYwR2qU0",
        "colab_type": "code",
        "colab": {}
      },
      "source": [
        ""
      ],
      "execution_count": 0,
      "outputs": []
    },
    {
      "cell_type": "markdown",
      "metadata": {
        "id": "eG33xBGZplgi",
        "colab_type": "text"
      },
      "source": [
        "To take an input from user, we use the input function. Whatever is inside the input function, will be shown to the user as a prompt. The function will read everything the user types after the user presses the enter key."
      ]
    },
    {
      "cell_type": "code",
      "metadata": {
        "id": "oebSh6N2l5lj",
        "colab_type": "code",
        "colab": {}
      },
      "source": [
        "input(\"Please enter something: \")"
      ],
      "execution_count": 0,
      "outputs": []
    },
    {
      "cell_type": "markdown",
      "metadata": {
        "id": "v96D04Z6u9MD",
        "colab_type": "text"
      },
      "source": [
        "# String operations"
      ]
    },
    {
      "cell_type": "markdown",
      "metadata": {
        "id": "uCHgTZiupyUw",
        "colab_type": "text"
      },
      "source": [
        "Using the + operator, two strings can be concatenated. It doesn't matter which string is delimited by which quote"
      ]
    },
    {
      "cell_type": "code",
      "metadata": {
        "id": "1CpL16Tgk0xN",
        "colab_type": "code",
        "colab": {}
      },
      "source": [
        "\"Hello, \" + \"World\""
      ],
      "execution_count": 0,
      "outputs": []
    },
    {
      "cell_type": "markdown",
      "metadata": {
        "id": "qrFMJvKRp6MN",
        "colab_type": "text"
      },
      "source": [
        "Adding a string to an int or float is however an error"
      ]
    },
    {
      "cell_type": "code",
      "metadata": {
        "id": "r3yrX0Qwk2mA",
        "colab_type": "code",
        "colab": {}
      },
      "source": [
        "\"Hi\" + 12"
      ],
      "execution_count": 0,
      "outputs": []
    },
    {
      "cell_type": "markdown",
      "metadata": {
        "id": "v1gYz3qjp_D5",
        "colab_type": "text"
      },
      "source": [
        "If you multiply a string by an int, the string is repeated that many times"
      ]
    },
    {
      "cell_type": "code",
      "metadata": {
        "id": "jgRvnMdak4oo",
        "colab_type": "code",
        "colab": {}
      },
      "source": [
        "\"Hello\" * 4"
      ],
      "execution_count": 0,
      "outputs": []
    },
    {
      "cell_type": "markdown",
      "metadata": {
        "id": "X2CxLT6mqFQK",
        "colab_type": "text"
      },
      "source": [
        "Trying to multiply a string with something else causes an error"
      ]
    },
    {
      "cell_type": "code",
      "metadata": {
        "id": "KxDq2WbUmLCe",
        "colab_type": "code",
        "colab": {}
      },
      "source": [
        "\"Hi\" * 7.0"
      ],
      "execution_count": 0,
      "outputs": []
    },
    {
      "cell_type": "markdown",
      "metadata": {
        "id": "ks_g9OEgvBRa",
        "colab_type": "text"
      },
      "source": [
        "# Typecasting"
      ]
    },
    {
      "cell_type": "markdown",
      "metadata": {
        "id": "Rkh_cLrxvENl",
        "colab_type": "text"
      },
      "source": [
        "Typecasting is the process of converting a data of one type to another type."
      ]
    },
    {
      "cell_type": "markdown",
      "metadata": {
        "id": "SBEHvDQOqLY8",
        "colab_type": "text"
      },
      "source": [
        "To convert one type into another, we use the typename and pass the value inside parenthesis. So far we have studied integer, float and string. Their typenames are **int, float and str** respectively"
      ]
    },
    {
      "cell_type": "code",
      "metadata": {
        "id": "dyJwV22PmPx_",
        "colab_type": "code",
        "colab": {}
      },
      "source": [
        "print(\"2\" + \"3\")\n",
        "int(\"2\") + int(\"3\")"
      ],
      "execution_count": 0,
      "outputs": []
    },
    {
      "cell_type": "markdown",
      "metadata": {
        "id": "B2LzH7BKqcdP",
        "colab_type": "text"
      },
      "source": [
        "If you try to convert something to an int which cannot be converted, an error will be thrown"
      ]
    },
    {
      "cell_type": "code",
      "metadata": {
        "id": "XEgcbBtMqi6u",
        "colab_type": "code",
        "colab": {}
      },
      "source": [
        "int(\"lol\")"
      ],
      "execution_count": 0,
      "outputs": []
    },
    {
      "cell_type": "markdown",
      "metadata": {
        "id": "xa5XHKi7qkau",
        "colab_type": "text"
      },
      "source": [
        "The result of the input() function is always a str. You can cast it to any other type."
      ]
    },
    {
      "cell_type": "code",
      "metadata": {
        "id": "hRh3TITpmVYw",
        "colab_type": "code",
        "colab": {}
      },
      "source": [
        "int(input(\"Enter a number: \"))"
      ],
      "execution_count": 0,
      "outputs": []
    },
    {
      "cell_type": "markdown",
      "metadata": {
        "id": "omBc3jzvvMvj",
        "colab_type": "text"
      },
      "source": [
        "# Variables"
      ]
    },
    {
      "cell_type": "markdown",
      "metadata": {
        "id": "dkB2PIgHvOtj",
        "colab_type": "text"
      },
      "source": [
        "Variables allows us to store a value by giving it a name. We can later access the value by using its name"
      ]
    },
    {
      "cell_type": "markdown",
      "metadata": {
        "id": "OPUQvP6vqsWL",
        "colab_type": "text"
      },
      "source": [
        "In Python, variables need not be declared. Using the = operator we can provide an initial value which will create the variable if it didn't exist. If it exists, the value will be changed."
      ]
    },
    {
      "cell_type": "code",
      "metadata": {
        "id": "5P4BqNrpmbkG",
        "colab_type": "code",
        "colab": {}
      },
      "source": [
        "x = 8\n",
        "print(x)\n",
        "print(x+3)"
      ],
      "execution_count": 0,
      "outputs": []
    },
    {
      "cell_type": "markdown",
      "metadata": {
        "id": "wAWzkaS4q9oO",
        "colab_type": "text"
      },
      "source": [
        "In Python, we can reassign to a variable any number of times. We can even assign a string to a variable which had int value before. This is because, Python is **dynamically typed** so the type of a variable can be changed. This makes writing code easy as well as difficult!"
      ]
    },
    {
      "cell_type": "code",
      "metadata": {
        "id": "UF4aLTsSmhqk",
        "colab_type": "code",
        "colab": {}
      },
      "source": [
        "y = 2\n",
        "print(y)\n",
        "y = \"Hello\"\n",
        "print(y)"
      ],
      "execution_count": 0,
      "outputs": []
    },
    {
      "cell_type": "markdown",
      "metadata": {
        "id": "ppM4Zrk8rQ8w",
        "colab_type": "text"
      },
      "source": [
        "Names of a variable are known as **identifier**. An identifier can only contain alphabets, digits and underscores."
      ]
    },
    {
      "cell_type": "code",
      "metadata": {
        "id": "ui5TFEwLmmr_",
        "colab_type": "code",
        "colab": {}
      },
      "source": [
        "this_is_a_valid_name = 12"
      ],
      "execution_count": 0,
      "outputs": []
    },
    {
      "cell_type": "markdown",
      "metadata": {
        "id": "Q9YmX1QDrb3Y",
        "colab_type": "text"
      },
      "source": [
        "An identifier cannot begin with a digit, or cannot contain spaces"
      ]
    },
    {
      "cell_type": "code",
      "metadata": {
        "id": "-eyfSoLBmqky",
        "colab_type": "code",
        "colab": {}
      },
      "source": [
        "123abc = 2\n",
        "a b c = 3"
      ],
      "execution_count": 0,
      "outputs": []
    },
    {
      "cell_type": "markdown",
      "metadata": {
        "id": "gI3M20LwritJ",
        "colab_type": "text"
      },
      "source": [
        "Trying to use a non existent variable causes an error"
      ]
    },
    {
      "cell_type": "code",
      "metadata": {
        "id": "jayLx0Dhmw-I",
        "colab_type": "code",
        "colab": {}
      },
      "source": [
        "a = \"Hi\"\n",
        "#b"
      ],
      "execution_count": 0,
      "outputs": []
    },
    {
      "cell_type": "markdown",
      "metadata": {
        "id": "91u2yGC5rn11",
        "colab_type": "text"
      },
      "source": [
        "Usign **del** we can remove a variable"
      ]
    },
    {
      "cell_type": "code",
      "metadata": {
        "id": "DzvAY8eMm1Tj",
        "colab_type": "code",
        "colab": {}
      },
      "source": [
        "del a\n",
        "a"
      ],
      "execution_count": 0,
      "outputs": []
    },
    {
      "cell_type": "markdown",
      "metadata": {
        "id": "Rwoy7wVYrrbR",
        "colab_type": "text"
      },
      "source": [
        "We can use a variable to store the result of the input() function"
      ]
    },
    {
      "cell_type": "code",
      "metadata": {
        "id": "LiqKTK3um3mT",
        "colab_type": "code",
        "colab": {}
      },
      "source": [
        "a = input(\"Enter your name: \")\n",
        "print(a)"
      ],
      "execution_count": 0,
      "outputs": []
    },
    {
      "cell_type": "markdown",
      "metadata": {
        "id": "9J-3FyTZvgox",
        "colab_type": "text"
      },
      "source": [
        "# In place operators"
      ]
    },
    {
      "cell_type": "markdown",
      "metadata": {
        "id": "wdKofe5srwyg",
        "colab_type": "text"
      },
      "source": [
        "If we want to store the result of an arithmetic operation with a variable into the **same variable** we can use in-place operators ( +=, -=, *=, /= and so on)\n",
        "For example, x = x* 2 is equivalent to x *= 2\n",
        "\n",
        "Python lacks increment and decrement operators (++ and --) like other languages."
      ]
    },
    {
      "cell_type": "code",
      "metadata": {
        "id": "jMRdmWh7m-k4",
        "colab_type": "code",
        "colab": {}
      },
      "source": [
        "x = 2\n",
        "x = x + 2\n",
        "print(x)\n",
        "x += 2\n",
        "print(x)"
      ],
      "execution_count": 0,
      "outputs": []
    },
    {
      "cell_type": "code",
      "metadata": {
        "id": "nAa8iCtzoW38",
        "colab_type": "code",
        "colab": {}
      },
      "source": [
        ""
      ],
      "execution_count": 0,
      "outputs": []
    }
  ]
}