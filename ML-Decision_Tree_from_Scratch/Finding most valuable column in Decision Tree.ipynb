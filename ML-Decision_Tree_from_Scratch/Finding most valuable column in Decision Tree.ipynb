{
 "cells": [
  {
   "cell_type": "markdown",
   "metadata": {},
   "source": [
    "<h1 style = 'color: #7B0505'><strong>Decision Tree : Drawing the entire Algorithm for first best split from scratch.</strong></h1>"
   ]
  },
  {
   "cell_type": "code",
   "execution_count": 3,
   "metadata": {},
   "outputs": [],
   "source": [
    "import pandas as pd\n",
    "from numpy import log"
   ]
  },
  {
   "cell_type": "code",
   "execution_count": 4,
   "metadata": {},
   "outputs": [
    {
     "data": {
      "text/html": [
       "<div>\n",
       "<style scoped>\n",
       "    .dataframe tbody tr th:only-of-type {\n",
       "        vertical-align: middle;\n",
       "    }\n",
       "\n",
       "    .dataframe tbody tr th {\n",
       "        vertical-align: top;\n",
       "    }\n",
       "\n",
       "    .dataframe thead th {\n",
       "        text-align: right;\n",
       "    }\n",
       "</style>\n",
       "<table border=\"1\" class=\"dataframe\">\n",
       "  <thead>\n",
       "    <tr style=\"text-align: right;\">\n",
       "      <th></th>\n",
       "      <th>day</th>\n",
       "      <th>outlook</th>\n",
       "      <th>temp</th>\n",
       "      <th>humidity</th>\n",
       "      <th>wind</th>\n",
       "      <th>play</th>\n",
       "    </tr>\n",
       "  </thead>\n",
       "  <tbody>\n",
       "    <tr>\n",
       "      <td>0</td>\n",
       "      <td>D1</td>\n",
       "      <td>Sunny</td>\n",
       "      <td>Hot</td>\n",
       "      <td>High</td>\n",
       "      <td>Weak</td>\n",
       "      <td>No</td>\n",
       "    </tr>\n",
       "    <tr>\n",
       "      <td>1</td>\n",
       "      <td>D2</td>\n",
       "      <td>Sunny</td>\n",
       "      <td>Hot</td>\n",
       "      <td>High</td>\n",
       "      <td>Strong</td>\n",
       "      <td>No</td>\n",
       "    </tr>\n",
       "    <tr>\n",
       "      <td>2</td>\n",
       "      <td>D3</td>\n",
       "      <td>Overcast</td>\n",
       "      <td>Hot</td>\n",
       "      <td>High</td>\n",
       "      <td>Weak</td>\n",
       "      <td>Yes</td>\n",
       "    </tr>\n",
       "    <tr>\n",
       "      <td>3</td>\n",
       "      <td>D4</td>\n",
       "      <td>Rain</td>\n",
       "      <td>Mild</td>\n",
       "      <td>High</td>\n",
       "      <td>Weak</td>\n",
       "      <td>Yes</td>\n",
       "    </tr>\n",
       "    <tr>\n",
       "      <td>4</td>\n",
       "      <td>D5</td>\n",
       "      <td>Rain</td>\n",
       "      <td>Cool</td>\n",
       "      <td>Normal</td>\n",
       "      <td>Weak</td>\n",
       "      <td>Yes</td>\n",
       "    </tr>\n",
       "    <tr>\n",
       "      <td>5</td>\n",
       "      <td>D6</td>\n",
       "      <td>Rain</td>\n",
       "      <td>Cool</td>\n",
       "      <td>Normal</td>\n",
       "      <td>Strong</td>\n",
       "      <td>No</td>\n",
       "    </tr>\n",
       "    <tr>\n",
       "      <td>6</td>\n",
       "      <td>D7</td>\n",
       "      <td>Overcast</td>\n",
       "      <td>Cool</td>\n",
       "      <td>Normal</td>\n",
       "      <td>Strong</td>\n",
       "      <td>Yes</td>\n",
       "    </tr>\n",
       "    <tr>\n",
       "      <td>7</td>\n",
       "      <td>D8</td>\n",
       "      <td>Sunny</td>\n",
       "      <td>Mild</td>\n",
       "      <td>High</td>\n",
       "      <td>Weak</td>\n",
       "      <td>No</td>\n",
       "    </tr>\n",
       "    <tr>\n",
       "      <td>8</td>\n",
       "      <td>D9</td>\n",
       "      <td>Sunny</td>\n",
       "      <td>Cool</td>\n",
       "      <td>Normal</td>\n",
       "      <td>Weak</td>\n",
       "      <td>Yes</td>\n",
       "    </tr>\n",
       "    <tr>\n",
       "      <td>9</td>\n",
       "      <td>D10</td>\n",
       "      <td>Rain</td>\n",
       "      <td>Mild</td>\n",
       "      <td>Normal</td>\n",
       "      <td>Weak</td>\n",
       "      <td>Yes</td>\n",
       "    </tr>\n",
       "    <tr>\n",
       "      <td>10</td>\n",
       "      <td>D11</td>\n",
       "      <td>Sunny</td>\n",
       "      <td>Mild</td>\n",
       "      <td>Normal</td>\n",
       "      <td>Strong</td>\n",
       "      <td>Yes</td>\n",
       "    </tr>\n",
       "    <tr>\n",
       "      <td>11</td>\n",
       "      <td>D12</td>\n",
       "      <td>Overcast</td>\n",
       "      <td>Mild</td>\n",
       "      <td>High</td>\n",
       "      <td>Strong</td>\n",
       "      <td>Yes</td>\n",
       "    </tr>\n",
       "    <tr>\n",
       "      <td>12</td>\n",
       "      <td>D13</td>\n",
       "      <td>Overcast</td>\n",
       "      <td>Hot</td>\n",
       "      <td>Normal</td>\n",
       "      <td>Weak</td>\n",
       "      <td>Yes</td>\n",
       "    </tr>\n",
       "    <tr>\n",
       "      <td>13</td>\n",
       "      <td>D14</td>\n",
       "      <td>Rain</td>\n",
       "      <td>Mild</td>\n",
       "      <td>High</td>\n",
       "      <td>Strong</td>\n",
       "      <td>No</td>\n",
       "    </tr>\n",
       "  </tbody>\n",
       "</table>\n",
       "</div>"
      ],
      "text/plain": [
       "    day   outlook  temp humidity    wind play\n",
       "0    D1     Sunny   Hot     High    Weak   No\n",
       "1    D2     Sunny   Hot     High  Strong   No\n",
       "2    D3  Overcast   Hot     High    Weak  Yes\n",
       "3    D4      Rain  Mild     High    Weak  Yes\n",
       "4    D5      Rain  Cool   Normal    Weak  Yes\n",
       "5    D6      Rain  Cool   Normal  Strong   No\n",
       "6    D7  Overcast  Cool   Normal  Strong  Yes\n",
       "7    D8     Sunny  Mild     High    Weak   No\n",
       "8    D9     Sunny  Cool   Normal    Weak  Yes\n",
       "9   D10      Rain  Mild   Normal    Weak  Yes\n",
       "10  D11     Sunny  Mild   Normal  Strong  Yes\n",
       "11  D12  Overcast  Mild     High  Strong  Yes\n",
       "12  D13  Overcast   Hot   Normal    Weak  Yes\n",
       "13  D14      Rain  Mild     High  Strong   No"
      ]
     },
     "execution_count": 4,
     "metadata": {},
     "output_type": "execute_result"
    }
   ],
   "source": [
    "tennis = pd.read_csv('play_tennis.csv')\n",
    "tennis"
   ]
  },
  {
   "cell_type": "code",
   "execution_count": 15,
   "metadata": {},
   "outputs": [
    {
     "data": {
      "text/plain": [
       "Sunny       5\n",
       "Rain        5\n",
       "Overcast    4\n",
       "Name: outlook, dtype: int64"
      ]
     },
     "execution_count": 15,
     "metadata": {},
     "output_type": "execute_result"
    }
   ],
   "source": [
    "tennis[tennis.columns[len(tennis.columns)-5]].value_counts()"
   ]
  },
  {
   "cell_type": "markdown",
   "metadata": {},
   "source": [
    "# Breaking down the calculation behind finding out the most valuable column or the first split in the decision tree"
   ]
  },
  {
   "cell_type": "markdown",
   "metadata": {},
   "source": [
    "<h3 style = 'color: #19535F'>To find the best split, we must find the information gain related to each split for each feature.  Information gain (IG) measures how much “information” a feature gives us about the class.<br><br>Entropy = - summation(p*log(p)).<br><br>IG = Entropy(parent) - ([weights' average]*Entropy(children))</h3>"
   ]
  },
  {
   "cell_type": "code",
   "execution_count": 24,
   "metadata": {},
   "outputs": [
    {
     "name": "stdout",
     "output_type": "stream",
     "text": [
      "[0.17103394188032706, 0.02025553899523236, 0.10524434967821283, 0.033359115436214726]\n"
     ]
    },
    {
     "data": {
      "text/plain": [
       "'outlook'"
      ]
     },
     "execution_count": 24,
     "metadata": {},
     "output_type": "execute_result"
    }
   ],
   "source": [
    "# Function to find entropy of splitting node.\n",
    "def entropy(yes,no):                  # yes = probability of 'Yes' in this dataset. no = probability of 'No' in this dataset.\n",
    "    s = yes + no\n",
    "    if yes == 0:                     # If there are no 'Yes' data.\n",
    "        return -(no/s*log(no/s))\n",
    "    elif no == 0:\n",
    "        return -(yes/s*log(yes/s))\n",
    "    return -((no/s*log(no/s)) + (yes/s*log(yes/s)))\n",
    "\n",
    "# Function to find out most valuable column by calculating highest information gain iteratively.\n",
    "def best_split(data):\n",
    "    info_gain = []\n",
    "    yes_count = data[data.columns[len(data.columns)-1]].value_counts()['Yes']   # No. of 'Yes'\n",
    "    no_count = data[data.columns[len(data.columns)-1]].value_counts()['No']     # No. of 'No'\n",
    "    parent = entropy(yes = yes_count,no = no_count)               # Calculating the entropy of the \n",
    "    for i in data.columns[1:-1]:\n",
    "        name_list = data.groupby(i).count()[data.columns[len(data.columns)-1]].index.tolist()  # Get the unique indices in a column\n",
    "        no_list = data.groupby(i).count()[data.columns[len(data.columns)-1]].tolist() # Get the count of each unique index under that column.\n",
    "        child = 0\n",
    "        for j in range(len(name_list)):  # Calculate entropy for each child node.\n",
    "            \n",
    "            try:\n",
    "                yes_count1 = data[data[i]==name_list[j]][data.columns[len(data.columns)-1]].value_counts()['Yes']\n",
    "            except:\n",
    "                yes_count1 = 0\n",
    "            try:\n",
    "                no_count1 = data[data[i]==name_list[j]][data.columns[len(data.columns)-1]].value_counts()['No']\n",
    "            except:\n",
    "                no_count1 = 0\n",
    "            entropy_branch = entropy(yes = yes_count1,no = no_count1)\n",
    "            weight = no_list[j]/sum(no_list)      # Weight = no. of examples in that branch/total in parent\n",
    "            child = child + entropy_branch*weight    # Calculating weighted entropy.\n",
    "        info_gain.append(parent - child)\n",
    "    print(info_gain)\n",
    "    return data.columns[info_gain.index(max(info_gain)) + 1]       # Because we ignored the insignificant 'day' column\n",
    "\n",
    "# Executing on tennis dataset\n",
    "best_split(tennis)"
   ]
  },
  {
   "cell_type": "markdown",
   "metadata": {},
   "source": [
    "# A more generalized version of the above algorithm : Finding best_split for a general, random dataset"
   ]
  },
  {
   "cell_type": "markdown",
   "metadata": {},
   "source": [
    "<h3 style = 'color: #19535F'>This function is a generalized version of best_split.<br><br>Here, we pass the dataframe, feature_cols = the columns among which you want to get the most valuable columns, and the target column.<br><br>If you don't pass the feature_cols, it will take all the columns except the last column and interpret it as target column</h3>"
   ]
  },
  {
   "cell_type": "code",
   "execution_count": 26,
   "metadata": {},
   "outputs": [
    {
     "data": {
      "text/plain": [
       "'outlook'"
      ]
     },
     "execution_count": 26,
     "metadata": {},
     "output_type": "execute_result"
    }
   ],
   "source": [
    "def entropy(unique):\n",
    "    s = sum(unique)\n",
    "    entropy = 0\n",
    "    for i in unique:\n",
    "        if i!=0:\n",
    "            entropy = entropy - i/s*log(i/s)\n",
    "    return entropy\n",
    "\n",
    "\n",
    "def best_split(data,feature_cols = None,target = None):\n",
    "    info_gain = []\n",
    "    if feature_cols == None:      # If not specified\n",
    "        feature_cols = data.columns[0:len(data.columns)-1].tolist()     # Takes the entire feature column set without filtering\n",
    "    if target == None:            # If not specified\n",
    "        target=X.columns[len(X.columns)-1]                 # Takes the last column only\n",
    "    label_count = data[target].value_counts()        # Counts no. of unique labels in that column (Frequency of 'Yes' and 'No')\n",
    "    unique_val_index = label_count.index.tolist()          # Gets a list of indices under target column\n",
    "    unique_val_count = label_count.tolist()                # Frequency of occurrence of each index under target column.\n",
    "    parent = entropy(unique_val_count)\n",
    "    for i in feature_cols:\n",
    "        name_list = data.groupby(i).count()[target].index.tolist()    # Get the unique indices in a column\n",
    "        no_list = data.groupby(i).count()[target].tolist()    # Get the count of each unique index under that column.\n",
    "        child = 0\n",
    "        for j in range(len(name_list)):\n",
    "            new_unique_val_count = []\n",
    "            for k in unique_val_index:           # Basically, for k in ['Yes','No']\n",
    "                try:\n",
    "                    count = data[data[i]==name_list[j]][target].value_counts()[k]\n",
    "                    new_unique_val_count.append(count)\n",
    "                except:\n",
    "                    new_unique_val_count.append(0)\n",
    "            entropy_branch = entropy(new_unique_val_count)\n",
    "            weight = no_list[j]/sum(no_list)\n",
    "            child = child + entropy_branch*weight\n",
    "        info_gain.append(parent - child)\n",
    "    sort_index = np.argsort(np.array(info_gain)).tolist()\n",
    "    sort_index.reverse()                   # Reverse the sorted list\n",
    "    return np.array(feature_cols)[sort_index][0]     # The first column name must be the one with the highest info_gain.\n",
    "\n",
    "# Testing effectiveness on tennis dataset.\n",
    "best_split(tennis,['humidity','temp', 'wind','outlook'],'play')"
   ]
  },
  {
   "cell_type": "code",
   "execution_count": null,
   "metadata": {},
   "outputs": [],
   "source": []
  }
 ],
 "metadata": {
  "kernelspec": {
   "display_name": "Python 3",
   "language": "python",
   "name": "python3"
  },
  "language_info": {
   "codemirror_mode": {
    "name": "ipython",
    "version": 3
   },
   "file_extension": ".py",
   "mimetype": "text/x-python",
   "name": "python",
   "nbconvert_exporter": "python",
   "pygments_lexer": "ipython3",
   "version": "3.7.3"
  }
 },
 "nbformat": 4,
 "nbformat_minor": 2
}
